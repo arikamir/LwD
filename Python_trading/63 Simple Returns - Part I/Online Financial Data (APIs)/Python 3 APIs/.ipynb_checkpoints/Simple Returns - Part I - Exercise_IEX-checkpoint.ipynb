{
 "cells": [
  {
   "cell_type": "markdown",
   "metadata": {},
   "source": [
    "## Simpler Returns - Part I"
   ]
  },
  {
   "cell_type": "markdown",
   "metadata": {},
   "source": [
    "Download the data for Microsoft (‘MSFT’) from IEX for the period ‘2015-1-1’ until today."
   ]
  },
  {
   "cell_type": "code",
   "execution_count": 18,
   "metadata": {},
   "outputs": [],
   "source": [
    "import numpy as np\n",
    "import pandas as pd\n",
    "import matplotlib.pyplot as plt\n",
    "from pandas_datareader import data as wb\n",
    "msft = wb.DataReader('MSFT', data_source='iex', start='2015-1-1', api_key='pk_fe22aca60e384ddda56600befe028e4d')"
   ]
  },
  {
   "cell_type": "markdown",
   "metadata": {},
   "source": [
    "Apply the .**head()** and **.tail()** methods to check if the data is ok. Always pay attention to the dates. Try to get an idea about how the stock price changed during the period."
   ]
  },
  {
   "cell_type": "code",
   "execution_count": 2,
   "metadata": {},
   "outputs": [
    {
     "data": {
      "text/html": [
       "<div>\n",
       "<style scoped>\n",
       "    .dataframe tbody tr th:only-of-type {\n",
       "        vertical-align: middle;\n",
       "    }\n",
       "\n",
       "    .dataframe tbody tr th {\n",
       "        vertical-align: top;\n",
       "    }\n",
       "\n",
       "    .dataframe thead th {\n",
       "        text-align: right;\n",
       "    }\n",
       "</style>\n",
       "<table border=\"1\" class=\"dataframe\">\n",
       "  <thead>\n",
       "    <tr style=\"text-align: right;\">\n",
       "      <th></th>\n",
       "      <th>open</th>\n",
       "      <th>high</th>\n",
       "      <th>low</th>\n",
       "      <th>close</th>\n",
       "      <th>volume</th>\n",
       "    </tr>\n",
       "    <tr>\n",
       "      <th>date</th>\n",
       "      <th></th>\n",
       "      <th></th>\n",
       "      <th></th>\n",
       "      <th></th>\n",
       "      <th></th>\n",
       "    </tr>\n",
       "  </thead>\n",
       "  <tbody>\n",
       "    <tr>\n",
       "      <td>2015-01-02</td>\n",
       "      <td>46.66</td>\n",
       "      <td>47.42</td>\n",
       "      <td>46.54</td>\n",
       "      <td>46.76</td>\n",
       "      <td>27913852</td>\n",
       "    </tr>\n",
       "    <tr>\n",
       "      <td>2015-01-05</td>\n",
       "      <td>46.37</td>\n",
       "      <td>46.73</td>\n",
       "      <td>46.25</td>\n",
       "      <td>46.33</td>\n",
       "      <td>39673865</td>\n",
       "    </tr>\n",
       "    <tr>\n",
       "      <td>2015-01-06</td>\n",
       "      <td>46.38</td>\n",
       "      <td>46.75</td>\n",
       "      <td>45.54</td>\n",
       "      <td>45.65</td>\n",
       "      <td>36447854</td>\n",
       "    </tr>\n",
       "    <tr>\n",
       "      <td>2015-01-07</td>\n",
       "      <td>45.98</td>\n",
       "      <td>46.46</td>\n",
       "      <td>45.49</td>\n",
       "      <td>46.23</td>\n",
       "      <td>29114061</td>\n",
       "    </tr>\n",
       "    <tr>\n",
       "      <td>2015-01-08</td>\n",
       "      <td>46.75</td>\n",
       "      <td>47.75</td>\n",
       "      <td>46.72</td>\n",
       "      <td>47.59</td>\n",
       "      <td>29645202</td>\n",
       "    </tr>\n",
       "  </tbody>\n",
       "</table>\n",
       "</div>"
      ],
      "text/plain": [
       "             open   high    low  close    volume\n",
       "date                                            \n",
       "2015-01-02  46.66  47.42  46.54  46.76  27913852\n",
       "2015-01-05  46.37  46.73  46.25  46.33  39673865\n",
       "2015-01-06  46.38  46.75  45.54  45.65  36447854\n",
       "2015-01-07  45.98  46.46  45.49  46.23  29114061\n",
       "2015-01-08  46.75  47.75  46.72  47.59  29645202"
      ]
     },
     "execution_count": 2,
     "metadata": {},
     "output_type": "execute_result"
    }
   ],
   "source": [
    "msft.head()"
   ]
  },
  {
   "cell_type": "code",
   "execution_count": 3,
   "metadata": {},
   "outputs": [
    {
     "data": {
      "text/html": [
       "<div>\n",
       "<style scoped>\n",
       "    .dataframe tbody tr th:only-of-type {\n",
       "        vertical-align: middle;\n",
       "    }\n",
       "\n",
       "    .dataframe tbody tr th {\n",
       "        vertical-align: top;\n",
       "    }\n",
       "\n",
       "    .dataframe thead th {\n",
       "        text-align: right;\n",
       "    }\n",
       "</style>\n",
       "<table border=\"1\" class=\"dataframe\">\n",
       "  <thead>\n",
       "    <tr style=\"text-align: right;\">\n",
       "      <th></th>\n",
       "      <th>open</th>\n",
       "      <th>high</th>\n",
       "      <th>low</th>\n",
       "      <th>close</th>\n",
       "      <th>volume</th>\n",
       "    </tr>\n",
       "    <tr>\n",
       "      <th>date</th>\n",
       "      <th></th>\n",
       "      <th></th>\n",
       "      <th></th>\n",
       "      <th></th>\n",
       "      <th></th>\n",
       "    </tr>\n",
       "  </thead>\n",
       "  <tbody>\n",
       "    <tr>\n",
       "      <td>2019-11-18</td>\n",
       "      <td>150.07</td>\n",
       "      <td>150.55</td>\n",
       "      <td>148.98</td>\n",
       "      <td>150.34</td>\n",
       "      <td>21554762</td>\n",
       "    </tr>\n",
       "    <tr>\n",
       "      <td>2019-11-19</td>\n",
       "      <td>150.88</td>\n",
       "      <td>151.33</td>\n",
       "      <td>150.20</td>\n",
       "      <td>150.39</td>\n",
       "      <td>23960164</td>\n",
       "    </tr>\n",
       "    <tr>\n",
       "      <td>2019-11-20</td>\n",
       "      <td>150.31</td>\n",
       "      <td>150.84</td>\n",
       "      <td>148.46</td>\n",
       "      <td>149.62</td>\n",
       "      <td>25720060</td>\n",
       "    </tr>\n",
       "    <tr>\n",
       "      <td>2019-11-21</td>\n",
       "      <td>149.40</td>\n",
       "      <td>149.80</td>\n",
       "      <td>148.50</td>\n",
       "      <td>149.48</td>\n",
       "      <td>18576083</td>\n",
       "    </tr>\n",
       "    <tr>\n",
       "      <td>2019-11-22</td>\n",
       "      <td>150.07</td>\n",
       "      <td>150.30</td>\n",
       "      <td>148.82</td>\n",
       "      <td>149.59</td>\n",
       "      <td>15841680</td>\n",
       "    </tr>\n",
       "  </tbody>\n",
       "</table>\n",
       "</div>"
      ],
      "text/plain": [
       "              open    high     low   close    volume\n",
       "date                                                \n",
       "2019-11-18  150.07  150.55  148.98  150.34  21554762\n",
       "2019-11-19  150.88  151.33  150.20  150.39  23960164\n",
       "2019-11-20  150.31  150.84  148.46  149.62  25720060\n",
       "2019-11-21  149.40  149.80  148.50  149.48  18576083\n",
       "2019-11-22  150.07  150.30  148.82  149.59  15841680"
      ]
     },
     "execution_count": 3,
     "metadata": {},
     "output_type": "execute_result"
    }
   ],
   "source": [
    "msft.tail()"
   ]
  },
  {
   "cell_type": "markdown",
   "metadata": {},
   "source": [
    "### Simple Rate of Return"
   ]
  },
  {
   "cell_type": "markdown",
   "metadata": {},
   "source": [
    "Calculate the simple returns of ‘MSFT’ for the given timeframe."
   ]
  },
  {
   "cell_type": "markdown",
   "metadata": {},
   "source": [
    "$$\n",
    "\\frac{P_1 - P_0}{P_0} = \\frac{P_1}{P_0} - 1\n",
    "$$"
   ]
  },
  {
   "cell_type": "code",
   "execution_count": 19,
   "metadata": {},
   "outputs": [
    {
     "name": "stdout",
     "output_type": "stream",
     "text": [
      "date\n",
      "2015-01-02         NaN\n",
      "2015-01-05   -0.009196\n",
      "2015-01-06   -0.014677\n",
      "2015-01-07    0.012705\n",
      "2015-01-08    0.029418\n",
      "                ...   \n",
      "2019-11-18    0.002467\n",
      "2019-11-19    0.000333\n",
      "2019-11-20   -0.005120\n",
      "2019-11-21   -0.000936\n",
      "2019-11-22    0.000736\n",
      "Name: Simple Return, Length: 1233, dtype: float64\n"
     ]
    }
   ],
   "source": [
    "msft['Simple Return'] = (msft['close'] / msft['close'].shift(1)) - 1\n",
    "print (msft['Simple Return'])"
   ]
  },
  {
   "cell_type": "code",
   "execution_count": 20,
   "metadata": {},
   "outputs": [
    {
     "data": {
      "image/png": "[encoded data removed]",
      "text/plain": [
       "<Figure size 576x360 with 1 Axes>"
      ]
     },
     "metadata": {
      "needs_background": "light"
     },
     "output_type": "display_data"
    }
   ],
   "source": [
    "msft['Simple Return'].plot(figsize=(8,5))\n",
    "plt.show()"
   ]
  },
  {
   "cell_type": "code",
   "execution_count": 22,
   "metadata": {},
   "outputs": [
    {
     "data": {
      "text/plain": [
       "0.26345224526221833"
      ]
     },
     "execution_count": 22,
     "metadata": {},
     "output_type": "execute_result"
    }
   ],
   "source": [
    "avg_returns_a = msft['Simple Return'].mean() * 250\n",
    "avg_returns_a"
   ]
  },
  {
   "cell_type": "code",
   "execution_count": 35,
   "metadata": {},
   "outputs": [
    {
     "name": "stdout",
     "output_type": "stream",
     "text": [
      "26.35 %\n"
     ]
    }
   ],
   "source": [
    "print (str(round(avg_returns_a, 4) * 100) +' %')"
   ]
  },
  {
   "cell_type": "code",
   "execution_count": null,
   "metadata": {},
   "outputs": [],
   "source": []
  }
 ],
 "metadata": {
  "kernelspec": {
   "display_name": "Python 3",
   "language": "python",
   "name": "python3"
  },
  "language_info": {
   "codemirror_mode": {
    "name": "ipython",
    "version": 3
   },
   "file_extension": ".py",
   "mimetype": "text/x-python",
   "name": "python",
   "nbconvert_exporter": "python",
   "pygments_lexer": "ipython3",
   "version": "3.7.4"
  }
 },
 "nbformat": 4,
 "nbformat_minor": 4
}
