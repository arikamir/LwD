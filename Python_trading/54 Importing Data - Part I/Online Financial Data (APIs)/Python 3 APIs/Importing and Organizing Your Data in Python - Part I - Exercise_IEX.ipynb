{
 "cells": [
  {
   "cell_type": "markdown",
   "metadata": {},
   "source": [
    "## Importing and Organizing Your Data in Python - Part I"
   ]
  },
  {
   "cell_type": "markdown",
   "metadata": {},
   "source": [
    "*Suggested Answers follow (usually there are multiple ways to solve a problem in Python).*"
   ]
  },
  {
   "cell_type": "markdown",
   "metadata": {},
   "source": [
    "a. Create a series object of 10 randomly generated integer values."
   ]
  },
  {
   "cell_type": "code",
   "execution_count": 1,
   "metadata": {},
   "outputs": [],
   "source": [
    "import numpy as np\n",
    "import pandas as pd"
   ]
  },
  {
   "cell_type": "code",
   "execution_count": 2,
   "metadata": {},
   "outputs": [],
   "source": [
    "ser = pd.Series(np.random.random(10), name =\"Column 01\")"
   ]
  },
  {
   "cell_type": "code",
   "execution_count": 3,
   "metadata": {},
   "outputs": [
    {
     "data": {
      "text/plain": [
       "0    0.170999\n",
       "1    0.169348\n",
       "2    0.630225\n",
       "3    0.643051\n",
       "4    0.582971\n",
       "5    0.800819\n",
       "6    0.637793\n",
       "7    0.470629\n",
       "8    0.042387\n",
       "9    0.778765\n",
       "Name: Column 01, dtype: float64"
      ]
     },
     "execution_count": 3,
     "metadata": {},
     "output_type": "execute_result"
    }
   ],
   "source": [
    "ser"
   ]
  },
  {
   "cell_type": "markdown",
   "metadata": {},
   "source": [
    "b. Extract data from IEX for Ford from the 1st of January 2015. The ticker you need is ‘F’. "
   ]
  },
  {
   "cell_type": "code",
   "execution_count": 4,
   "metadata": {},
   "outputs": [],
   "source": [
    "from pandas_datareader import data as wb"
   ]
  },
  {
   "cell_type": "code",
   "execution_count": 6,
   "metadata": {},
   "outputs": [],
   "source": [
    "PG = wb.DataReader('MSFT', data_source='iex', start='2015-1-1', api_key='pk_fe22aca60e384ddda56600befe028e4d')"
   ]
  },
  {
   "cell_type": "code",
   "execution_count": 21,
   "metadata": {},
   "outputs": [
    {
     "data": {
      "text/html": [
       "<div>\n",
       "<style scoped>\n",
       "    .dataframe tbody tr th:only-of-type {\n",
       "        vertical-align: middle;\n",
       "    }\n",
       "\n",
       "    .dataframe tbody tr th {\n",
       "        vertical-align: top;\n",
       "    }\n",
       "\n",
       "    .dataframe thead th {\n",
       "        text-align: right;\n",
       "    }\n",
       "</style>\n",
       "<table border=\"1\" class=\"dataframe\">\n",
       "  <thead>\n",
       "    <tr style=\"text-align: right;\">\n",
       "      <th></th>\n",
       "      <th>open</th>\n",
       "      <th>high</th>\n",
       "      <th>low</th>\n",
       "      <th>close</th>\n",
       "      <th>volume</th>\n",
       "    </tr>\n",
       "    <tr>\n",
       "      <th>date</th>\n",
       "      <th></th>\n",
       "      <th></th>\n",
       "      <th></th>\n",
       "      <th></th>\n",
       "      <th></th>\n",
       "    </tr>\n",
       "  </thead>\n",
       "  <tbody>\n",
       "    <tr>\n",
       "      <td>2015-01-02</td>\n",
       "      <td>15.59</td>\n",
       "      <td>15.65</td>\n",
       "      <td>15.18</td>\n",
       "      <td>15.36</td>\n",
       "      <td>24777911</td>\n",
       "    </tr>\n",
       "    <tr>\n",
       "      <td>2015-01-05</td>\n",
       "      <td>15.12</td>\n",
       "      <td>15.13</td>\n",
       "      <td>14.69</td>\n",
       "      <td>14.76</td>\n",
       "      <td>44079745</td>\n",
       "    </tr>\n",
       "    <tr>\n",
       "      <td>2015-01-06</td>\n",
       "      <td>14.88</td>\n",
       "      <td>14.90</td>\n",
       "      <td>14.38</td>\n",
       "      <td>14.62</td>\n",
       "      <td>32981627</td>\n",
       "    </tr>\n",
       "    <tr>\n",
       "      <td>2015-01-07</td>\n",
       "      <td>14.78</td>\n",
       "      <td>15.09</td>\n",
       "      <td>14.77</td>\n",
       "      <td>15.04</td>\n",
       "      <td>26065329</td>\n",
       "    </tr>\n",
       "    <tr>\n",
       "      <td>2015-01-08</td>\n",
       "      <td>15.40</td>\n",
       "      <td>15.48</td>\n",
       "      <td>15.23</td>\n",
       "      <td>15.42</td>\n",
       "      <td>33943398</td>\n",
       "    </tr>\n",
       "    <tr>\n",
       "      <td>...</td>\n",
       "      <td>...</td>\n",
       "      <td>...</td>\n",
       "      <td>...</td>\n",
       "      <td>...</td>\n",
       "      <td>...</td>\n",
       "    </tr>\n",
       "    <tr>\n",
       "      <td>2019-11-18</td>\n",
       "      <td>9.05</td>\n",
       "      <td>9.05</td>\n",
       "      <td>8.89</td>\n",
       "      <td>8.95</td>\n",
       "      <td>38296388</td>\n",
       "    </tr>\n",
       "    <tr>\n",
       "      <td>2019-11-19</td>\n",
       "      <td>8.99</td>\n",
       "      <td>9.00</td>\n",
       "      <td>8.87</td>\n",
       "      <td>8.90</td>\n",
       "      <td>31192765</td>\n",
       "    </tr>\n",
       "    <tr>\n",
       "      <td>2019-11-20</td>\n",
       "      <td>8.88</td>\n",
       "      <td>8.89</td>\n",
       "      <td>8.68</td>\n",
       "      <td>8.73</td>\n",
       "      <td>38291750</td>\n",
       "    </tr>\n",
       "    <tr>\n",
       "      <td>2019-11-21</td>\n",
       "      <td>8.77</td>\n",
       "      <td>8.79</td>\n",
       "      <td>8.67</td>\n",
       "      <td>8.71</td>\n",
       "      <td>33161371</td>\n",
       "    </tr>\n",
       "    <tr>\n",
       "      <td>2019-11-22</td>\n",
       "      <td>8.80</td>\n",
       "      <td>8.90</td>\n",
       "      <td>8.77</td>\n",
       "      <td>8.89</td>\n",
       "      <td>34966746</td>\n",
       "    </tr>\n",
       "  </tbody>\n",
       "</table>\n",
       "<p>1233 rows × 5 columns</p>\n",
       "</div>"
      ],
      "text/plain": [
       "             open   high    low  close    volume\n",
       "date                                            \n",
       "2015-01-02  15.59  15.65  15.18  15.36  24777911\n",
       "2015-01-05  15.12  15.13  14.69  14.76  44079745\n",
       "2015-01-06  14.88  14.90  14.38  14.62  32981627\n",
       "2015-01-07  14.78  15.09  14.77  15.04  26065329\n",
       "2015-01-08  15.40  15.48  15.23  15.42  33943398\n",
       "...           ...    ...    ...    ...       ...\n",
       "2019-11-18   9.05   9.05   8.89   8.95  38296388\n",
       "2019-11-19   8.99   9.00   8.87   8.90  31192765\n",
       "2019-11-20   8.88   8.89   8.68   8.73  38291750\n",
       "2019-11-21   8.77   8.79   8.67   8.71  33161371\n",
       "2019-11-22   8.80   8.90   8.77   8.89  34966746\n",
       "\n",
       "[1233 rows x 5 columns]"
      ]
     },
     "execution_count": 21,
     "metadata": {},
     "output_type": "execute_result"
    }
   ],
   "source": [
    "PG"
   ]
  },
  {
   "cell_type": "code",
   "execution_count": null,
   "metadata": {},
   "outputs": [],
   "source": []
  }
 ],
 "metadata": {
  "kernelspec": {
   "display_name": "Python 3",
   "language": "python",
   "name": "python3"
  },
  "language_info": {
   "codemirror_mode": {
    "name": "ipython",
    "version": 3
   },
   "file_extension": ".py",
   "mimetype": "text/x-python",
   "name": "python",
   "nbconvert_exporter": "python",
   "pygments_lexer": "ipython3",
   "version": "3.7.4"
  }
 },
 "nbformat": 4,
 "nbformat_minor": 4
}
